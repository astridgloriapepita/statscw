{
 "cells": [
  {
   "cell_type": "markdown",
   "metadata": {},
   "source": [
    "# Breaking substitution cyphers with MCMC"
   ]
  },
  {
   "cell_type": "code",
   "execution_count": null,
   "metadata": {},
   "outputs": [],
   "source": [
    "# Import all the usual things\n",
    "import math\n",
    "import random\n",
    "import numpy as np\n",
    "\n",
    "# Import tools for reading files and processing strings\n",
    "import string\n",
    "from pathlib import Path \n",
    "\n",
    "# Also get tools to read the dictionary\n",
    "# of probabilities back.\n",
    "import json"
   ]
  },
  {
   "cell_type": "markdown",
   "metadata": {},
   "source": [
    "## Preliminaries"
   ]
  },
  {
   "cell_type": "markdown",
   "metadata": {},
   "source": [
    "### Read the dictionary of probabilities"
   ]
  },
  {
   "cell_type": "markdown",
   "metadata": {},
   "source": [
    "The lines below read a dictionary, `logPairProbs`, that contains the logs of the probabilities $p(a,b)$. After these lines have been run:\n",
    "   * `logProbPairs['t']` will be a dictionary whose keys are symbols that might follow a `'t'` in the text;\n",
    "   * `logProbPairs['t']['h']` will be $\\log(p(\\mbox{'t', 'h'}))$, the log of the probability that a `'t'` is followed by an `'h'`."
   ]
  },
  {
   "cell_type": "code",
   "execution_count": null,
   "metadata": {},
   "outputs": [],
   "source": [
    "# Read the dictionary of log(p(a,b)).\n",
    "probFileObj = open(\"LogPairProbDict.json\", \"r\") # Open the file\n",
    "jsonFromFile = probFileObj.read() # Read its contents\n",
    "logPairProbs = json.loads(jsonFromFile) # Use the contents to construct the dictionary\n",
    "probFileObj.close() # Tidy up.\n",
    "\n",
    "# To make sure all is well, look at p('t','h')\n",
    "print( math.exp(logPairProbs['t']['h']) )"
   ]
  },
  {
   "cell_type": "markdown",
   "metadata": {},
   "source": [
    "### Define a raft of utilities"
   ]
  },
  {
   "cell_type": "markdown",
   "metadata": {},
   "source": [
    "Many of these functions are defined in `EstimatePairProbs.ipynb` and `SubstitutionCyphers.ipynb`, but it's convenient to have them here too."
   ]
  },
  {
   "cell_type": "markdown",
   "metadata": {},
   "source": [
    "#### Given a dictionary of $\\log(p(a,b))$, extract the alphabet of allowed characters."
   ]
  },
  {
   "cell_type": "markdown",
   "metadata": {},
   "source": [
    "The alphabet provides the keys of the dictionary."
   ]
  },
  {
   "cell_type": "code",
   "execution_count": null,
   "metadata": {},
   "outputs": [],
   "source": [
    "def extractAlphabet( probDict ):\n",
    "    # Examine the input to get the alphabet of allowed characters\n",
    "    myAlphabet = list( probDict.keys() )\n",
    "    myAlphabetStr = ''.join(myAlphabet)\n",
    "    return( myAlphabetStr )\n",
    "\n",
    "# Do a test\n",
    "extractAlphabet( logPairProbs )"
   ]
  },
  {
   "cell_type": "markdown",
   "metadata": {},
   "source": [
    "#### Standardise a text"
   ]
  },
  {
   "cell_type": "code",
   "execution_count": null,
   "metadata": {},
   "outputs": [],
   "source": [
    "def standardiseText( rawText, allowedChars, replacementChar=' ' ):\n",
    "    # Make all the characters lower case\n",
    "    rawText = rawText.lower()\n",
    "\n",
    "    # Replace any characters that aren't part of our list\n",
    "    # of allowed characters with the replacement character\n",
    "    standardisedText = \"\"\n",
    "    for char in rawText:\n",
    "        if allowedChars.find(char) == -1:\n",
    "            # char isn't one of the allowed ones\n",
    "            standardisedText = standardisedText + replacementChar\n",
    "        else:\n",
    "            standardisedText = standardisedText + char\n",
    "            \n",
    "    return( standardisedText )\n",
    "\n",
    "# Do a small test\n",
    "testText = \"Where would heavy metal be without the ümlaut?\"\n",
    "standardiseText( testText, ' abcdefghijklmnopqrstuvwxyz', '*' )"
   ]
  },
  {
   "cell_type": "markdown",
   "metadata": {},
   "source": [
    "#### Encyphering a text and computing $S^{-1}$ given $S$."
   ]
  },
  {
   "cell_type": "markdown",
   "metadata": {},
   "source": [
    "The two main things we want to do with a cypher are (a) encrypt a message and (b) figure out how to decrypt a message if we have the table of substitutions used to encypher it."
   ]
  },
  {
   "cell_type": "code",
   "execution_count": null,
   "metadata": {},
   "outputs": [],
   "source": [
    "# Given a message and an encryption or decription dictionary, apply it.\n",
    "def applyCypher( msg, cypherDict ):\n",
    "    result = \"\" ;\n",
    "    for char in msg:\n",
    "        result += cypherDict[char]\n",
    "        \n",
    "    return( result )\n",
    "\n",
    "# Testing: result should be 'cbabc'\n",
    "applyCypher( \"abcba\", {'a':'c', 'b':'b', 'c':'a'} )"
   ]
  },
  {
   "cell_type": "markdown",
   "metadata": {},
   "source": [
    "Given a dictionary representing a substitutions cypher $S$, returns one that represents $S^{-1}$."
   ]
  },
  {
   "cell_type": "code",
   "execution_count": null,
   "metadata": {},
   "outputs": [],
   "source": [
    "# Given an encryption dictionary, find the decryption dictionary\n",
    "def invertCypher( cypherDict ):\n",
    "    inverseDict = dict.fromkeys( cypherDict.keys() )\n",
    "    for plaintextChar in cypherDict.keys():\n",
    "        cyphertextChar = cypherDict[plaintextChar]\n",
    "        inverseDict[cyphertextChar] = plaintextChar\n",
    "        \n",
    "    return( inverseDict )\n",
    "\n",
    "# Testing: result should be {'a': 'c', 'b': 'a', 'c': 'b'}\n",
    "invertCypher( {'a':'b', 'b':'c', 'c':'a'} )"
   ]
  },
  {
   "cell_type": "markdown",
   "metadata": {},
   "source": [
    "#### Representing cyphers"
   ]
  },
  {
   "cell_type": "markdown",
   "metadata": {},
   "source": [
    "We can represent a substiution cypher in at least two ways. Perhaps the most natural approach in Python is to make a dictionary arranged so that `cypherDict[plaintextChar] = cyphertextChar`. An alternative is to arrange the keys of such a dictionary in some standard order and then just list the values in a string."
   ]
  },
  {
   "cell_type": "code",
   "execution_count": null,
   "metadata": {},
   "outputs": [],
   "source": [
    "def cypherStrToDict( cypherStr ):\n",
    "    alphabet = sorted( cypherStr )\n",
    "    cypherDict = dict.fromkeys( alphabet )\n",
    "    for j in range(len(alphabet)):\n",
    "        cypherDict[alphabet[j]] = cypherStr[j]\n",
    "        \n",
    "    return( cypherDict )\n",
    "\n",
    "# Testing: result should be {'a': 'b', 'b': 'c', 'c': 'a'}\n",
    "cypherStrToDict( 'bca' )"
   ]
  },
  {
   "cell_type": "code",
   "execution_count": null,
   "metadata": {},
   "outputs": [],
   "source": [
    "def cypherDictToStr( cypherDict ):\n",
    "    return( ''.join(list(cypherDict.values())) )\n",
    "\n",
    "# Should return the test string\n",
    "testStr = 'bca'\n",
    "cypherDictToStr( cypherStrToDict(testStr) )"
   ]
  },
  {
   "cell_type": "markdown",
   "metadata": {},
   "source": [
    "#### Generating random cyphers"
   ]
  },
  {
   "cell_type": "markdown",
   "metadata": {},
   "source": [
    "Finally, here is a tool to generate random substitution cyphers."
   ]
  },
  {
   "cell_type": "code",
   "execution_count": null,
   "metadata": {},
   "outputs": [],
   "source": [
    "# Generate a random cypher for a given alphabet\n",
    "def randomCypher( alphabetStr ):\n",
    "    # Put the alphabet into standard order\n",
    "    alphabet = sorted( alphabetStr )\n",
    "    \n",
    "    # Generate a shuffled version of the alphabet\n",
    "    scrambledAlphabet = alphabet.copy() # make a copy\n",
    "    random.shuffle( scrambledAlphabet ) # shuffle it\n",
    "     \n",
    "    # Assemble the dictionary of substitutions\n",
    "    cypher = dict.fromkeys( alphabet, '' )\n",
    "    for j in range(len(alphabet)):\n",
    "        cypher[alphabet[j]] = scrambledAlphabet[j]\n",
    "        \n",
    "    return( cypher )\n",
    "\n",
    "# Do a small test\n",
    "smallAlphabet = 'abcdefg'\n",
    "randomCypher( smallAlphabet )"
   ]
  },
  {
   "cell_type": "markdown",
   "metadata": {},
   "source": [
    "## The MCMC code"
   ]
  },
  {
   "cell_type": "markdown",
   "metadata": {},
   "source": [
    "To do MCMC, we need to be able to evaluate a log-likelihood."
   ]
  },
  {
   "cell_type": "code",
   "execution_count": null,
   "metadata": {},
   "outputs": [],
   "source": [
    "def logLikelihood( msg, logPairProbs ):\n",
    "    loglike = 0.0 ;\n",
    "    # Your code here.\n",
    "    # Implement Eqn. (5) from the assignment\n",
    "            \n",
    "    return( loglike )"
   ]
  },
  {
   "cell_type": "markdown",
   "metadata": {},
   "source": [
    "The following function does most of the work."
   ]
  },
  {
   "cell_type": "code",
   "execution_count": null,
   "metadata": {},
   "outputs": [],
   "source": [
    "def decypherWithMCMC( cyphertext, logPairProbs, nSamples, burnIn ):\n",
    "    # Examine the input to get the alphabet of allowed characters\n",
    "    myAlphabet = extractAlphabet( logPairProbs )\n",
    "    \n",
    "    # Step (1) Initilaise the MCMC run by choosing a decryption\n",
    "    # key at random. This is equivalent to sampling from a uniform prior.\n",
    "    crntCypherDict = randomCypher( myAlphabet )\n",
    "    \n",
    "    # Step (2) Decrypt the cyphertext using crntCypherDict\n",
    "    crntDecryptDict = invertCypher( crntCypherDict )\n",
    "    crntPlaintext = applyCypher( cyphertext, crntDecryptDict )\n",
    "    \n",
    "    # Step (3) Compute the log-likelihood\n",
    "    crntLoglike = logLikelihood( crntPlaintext, logPairProbs )\n",
    "    \n",
    "    # Do the sampling\n",
    "    nProposed = 0\n",
    "    nAccepted = 0 \n",
    "    sampleNum = 0\n",
    "    samples = [''] * nSamples # initially empty\n",
    "    while sampleNum < nSamples:\n",
    "        # Step (4): generate a proposal\n",
    "        \n",
    "        # Your code here:\n",
    "        # Choose a pair of symbols from the alphabet and make\n",
    "        # a new cypher that swaps the characters assigned to the pair\n",
    "        \n",
    "        \n",
    "        # Step (5) Get the plaintext implied by the proposed cypher\n",
    "        # Your code here \n",
    "        \n",
    "        # Step (6) Compute the log-likelihood\n",
    "        proposedLoglike = logLikelihood( proposedPlaintext, logPairProbs )\n",
    "        nProposed += 1\n",
    "        \n",
    "        # Step (7) The Metropolis-Hastings acceptance step\n",
    "        # Your code here:\n",
    "        # Compute the MH-acceptance ratio, then \n",
    "        # set a boolean variable the answers the question\n",
    "        # \"Should we accept this proposal?\"\n",
    "        \n",
    "        if( acceptProposal ):\n",
    "            crntCypherDict = proposedCypherDict\n",
    "            crntLoglike = proposedLoglike\n",
    "            nAccepted += 1\n",
    "\n",
    "        if( nProposed >= burnIn ):\n",
    "            samples[sampleNum] = cypherDictToStr( crntCypherDict )\n",
    "            sampleNum += 1\n",
    "       \n",
    "    # Report the acceptance ratio and\n",
    "    # return the samples.\n",
    "    print( nAccepted / nProposed )\n",
    "    return( samples )"
   ]
  },
  {
   "cell_type": "markdown",
   "metadata": {},
   "source": [
    "### Try with a real text"
   ]
  },
  {
   "cell_type": "code",
   "execution_count": null,
   "metadata": {},
   "outputs": [],
   "source": [
    "# Extract the alphabet of allowed characters from logPairProbs\n",
    "lppAlphabet = extractAlphabet( logPairProbs )\n",
    "\n",
    "# Read and standardise a plaintext\n",
    "rawPlaintext = Path('SamplePlaintext.txt').read_text()\n",
    "plaintext = standardiseText( rawPlaintext, lppAlphabet )\n",
    "\n",
    "# Generate a random cypher and apply it\n",
    "myCypher = randomCypher( lppAlphabet )\n",
    "cyphertext = applyCypher( plaintext, myCypher )\n",
    "\n",
    "# Do MCMC\n",
    "burnIn = 8000\n",
    "nSamples = 10 \n",
    "samples = decypherWithMCMC( cyphertext, logPairProbs, nSamples, burnIn )"
   ]
  },
  {
   "cell_type": "code",
   "execution_count": null,
   "metadata": {},
   "outputs": [],
   "source": [
    "# See how well it worked\n",
    "decryptedFragment = [''] * nSamples\n",
    "for j in range(nSamples):\n",
    "    cypherStr = samples[j]\n",
    "    cypherDict = cypherStrToDict( cypherStr )\n",
    "    decryptDict = invertCypher( cypherDict )\n",
    "    crntPlaintext = applyCypher( cyphertext, decryptDict )\n",
    "    decryptedFragment[j] = crntPlaintext[0:50]\n",
    "    \n",
    "decryptedFragment"
   ]
  }
 ],
 "metadata": {
  "kernelspec": {
   "display_name": "Python 3",
   "language": "python",
   "name": "python3"
  },
  "language_info": {
   "codemirror_mode": {
    "name": "ipython",
    "version": 3
   },
   "file_extension": ".py",
   "mimetype": "text/x-python",
   "name": "python",
   "nbconvert_exporter": "python",
   "pygments_lexer": "ipython3",
   "version": "3.8.8"
  }
 },
 "nbformat": 4,
 "nbformat_minor": 4
}
