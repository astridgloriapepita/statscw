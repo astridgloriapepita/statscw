{
 "cells": [
  {
   "cell_type": "markdown",
   "metadata": {},
   "source": [
    "# Working with substitution cyphers in Python"
   ]
  },
  {
   "cell_type": "code",
   "execution_count": 1,
   "metadata": {},
   "outputs": [],
   "source": [
    "# Import all the usual things\n",
    "import math\n",
    "import random\n",
    "import numpy as np\n",
    "\n",
    "# And, finally, stuff to write dictionaries out to files\n",
    "# and read them back again.\n",
    "import json"
   ]
  },
  {
   "cell_type": "markdown",
   "metadata": {},
   "source": [
    "## Utilities for substitution cyphers"
   ]
  },
  {
   "cell_type": "markdown",
   "metadata": {},
   "source": [
    "The two main things we want to do with a cypher are (a) encrypt a message and (b) figure out how to decrypt a message if we have the table of substitutions used to encypher it."
   ]
  },
  {
   "cell_type": "code",
   "execution_count": 2,
   "metadata": {},
   "outputs": [
    {
     "data": {
      "text/plain": [
       "'cbabc'"
      ]
     },
     "execution_count": 2,
     "metadata": {},
     "output_type": "execute_result"
    }
   ],
   "source": [
    "# Given a message and an encryption or decription dictionary, apply it.\n",
    "def applyCypher( msg, cypherDict ):\n",
    "    result = \"\" ;\n",
    "    for char in msg:\n",
    "        result += cypherDict[char]\n",
    "        \n",
    "    return( result )\n",
    "\n",
    "# Testing: result should be 'cbabc'\n",
    "applyCypher( \"abcba\", {'a':'c', 'b':'b', 'c':'a'} )"
   ]
  },
  {
   "cell_type": "markdown",
   "metadata": {},
   "source": [
    "The next function accepts a dictionary representing a substitutions cypher $S$ and returns one that represents $S^{-1}$."
   ]
  },
  {
   "cell_type": "code",
   "execution_count": 3,
   "metadata": {},
   "outputs": [
    {
     "data": {
      "text/plain": [
       "{'a': 'c', 'b': 'a', 'c': 'b'}"
      ]
     },
     "execution_count": 3,
     "metadata": {},
     "output_type": "execute_result"
    }
   ],
   "source": [
    "# Given an encryption dictionary, find the decryption dictionary\n",
    "def invertCypher( cypherDict ):\n",
    "    inverseDict = dict.fromkeys( cypherDict.keys() )\n",
    "    for plaintextChar in cypherDict.keys():\n",
    "        cyphertextChar = cypherDict[plaintextChar]\n",
    "        inverseDict[cyphertextChar] = plaintextChar\n",
    "        \n",
    "    return( inverseDict )\n",
    "\n",
    "# Testing: result should be {'a': 'c', 'b': 'a', 'c': 'b'}\n",
    "invertCypher( {'a':'b', 'b':'c', 'c':'a'} )"
   ]
  },
  {
   "cell_type": "markdown",
   "metadata": {},
   "source": [
    "#### Representing cyphers"
   ]
  },
  {
   "cell_type": "markdown",
   "metadata": {},
   "source": [
    "We can represent a substiution cypher in at least two ways. Perhaps the most natural approach in Python is to make a dictionary arranged so that `cypherDict[plaintextChar] = cyphertextChar`. An alternative is to arrange the keys of such a dictionary in some standard order and then just list the values in a string."
   ]
  },
  {
   "cell_type": "code",
   "execution_count": 4,
   "metadata": {},
   "outputs": [
    {
     "data": {
      "text/plain": [
       "{'a': 'b', 'b': 'c', 'c': 'a'}"
      ]
     },
     "execution_count": 4,
     "metadata": {},
     "output_type": "execute_result"
    }
   ],
   "source": [
    "def cypherStrToDict( cypherStr ):\n",
    "    alphabet = sorted( cypherStr )\n",
    "    cypherDict = dict.fromkeys( alphabet )\n",
    "    for j in range(len(alphabet)):\n",
    "        cypherDict[alphabet[j]] = cypherStr[j]\n",
    "        \n",
    "    return( cypherDict )\n",
    "\n",
    "# Testing: result should be {'a': 'b', 'b': 'c', 'c': 'a'}\n",
    "cypherStrToDict( 'bca' )"
   ]
  },
  {
   "cell_type": "code",
   "execution_count": 5,
   "metadata": {},
   "outputs": [
    {
     "data": {
      "text/plain": [
       "'bca'"
      ]
     },
     "execution_count": 5,
     "metadata": {},
     "output_type": "execute_result"
    }
   ],
   "source": [
    "def cypherDictToStr( cypherDict ):\n",
    "    return( ''.join(list(cypherDict.values())) )\n",
    "\n",
    "# Should return the test string\n",
    "testStr = 'bca'\n",
    "cypherDictToStr( cypherStrToDict(testStr) )"
   ]
  },
  {
   "cell_type": "markdown",
   "metadata": {},
   "source": [
    "#### Generating random substitution cyphers"
   ]
  },
  {
   "cell_type": "markdown",
   "metadata": {},
   "source": [
    "Finally, here is a tool to generate random cyphers."
   ]
  },
  {
   "cell_type": "code",
   "execution_count": 6,
   "metadata": {},
   "outputs": [
    {
     "data": {
      "text/plain": [
       "{'a': 'g', 'b': 'a', 'c': 'c', 'd': 'f', 'e': 'e', 'f': 'b', 'g': 'd'}"
      ]
     },
     "execution_count": 6,
     "metadata": {},
     "output_type": "execute_result"
    }
   ],
   "source": [
    "# Generate a random cypher for a given alphabet\n",
    "def randomCypher( alphabetStr ):\n",
    "    # Put the alphabet into standard order\n",
    "    alphabet = sorted( alphabetStr )\n",
    "    \n",
    "    # Generate a shuffled version of the alphabet\n",
    "    scrambledAlphabet = alphabet.copy() # make a copy\n",
    "    random.shuffle( scrambledAlphabet ) # shuffle it\n",
    "     \n",
    "    # Assemble the dictionary of substitutions\n",
    "    cypher = dict.fromkeys( alphabet, '' )\n",
    "    for j in range(len(alphabet)):\n",
    "        cypher[alphabet[j]] = scrambledAlphabet[j]\n",
    "        \n",
    "    return( cypher )\n",
    "\n",
    "# Do a small test\n",
    "smallAlphabet = 'abcdefg'\n",
    "randomCypher( smallAlphabet )"
   ]
  }
 ],
 "metadata": {
  "kernelspec": {
   "display_name": "Python 3",
   "language": "python",
   "name": "python3"
  },
  "language_info": {
   "codemirror_mode": {
    "name": "ipython",
    "version": 3
   },
   "file_extension": ".py",
   "mimetype": "text/x-python",
   "name": "python",
   "nbconvert_exporter": "python",
   "pygments_lexer": "ipython3",
   "version": "3.7.6"
  }
 },
 "nbformat": 4,
 "nbformat_minor": 4
}
